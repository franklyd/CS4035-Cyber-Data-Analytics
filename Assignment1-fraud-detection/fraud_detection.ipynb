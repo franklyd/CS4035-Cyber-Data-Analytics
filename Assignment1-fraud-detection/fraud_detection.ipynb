{
 "cells": [
  {
   "cell_type": "markdown",
   "metadata": {},
   "source": [
    "# Fraud detection assignment\n",
    "* Read fraud detection paper, it contains several example techniques and issues\n",
    "* Determine whether you have sufficient background to complete this course, you should already be able to implement the  machine learning techniques mentioned in the paper\n",
    "* Understand the example python code for performing kNN on the fraud data (make sure you also have scikitlearn installed in addition to Python 2.7)\n",
    "* Explore and visualize the fraud data set\n",
    "* Apply basic ML algorithms on the fraud data\n",
    "* Reflect on the usability of your results in practice (white-box, fraud game)\n",
    "* This is a part of the first lab assignment, there is no deliverable this week, more tasks follow in upcoming two weeks"
   ]
  },
  {
   "cell_type": "markdown",
   "metadata": {},
   "source": [
    "## Step 1: explorer and visualize the fraud dataset\n"
   ]
  },
  {
   "cell_type": "code",
   "execution_count": 8,
   "metadata": {
    "collapsed": false
   },
   "outputs": [],
   "source": [
    "import datetime\n",
    "import time\n",
    "import matplotlib.pyplot as plt\n",
    "plt.style.use('ggplot')\n",
    "%matplotlib inline\n",
    "from sklearn import neighbors\n",
    "from sklearn.metrics import precision_recall_curve\n",
    "from sklearn.metrics import classification_report\n",
    "from sklearn.cross_validation import train_test_split\n",
    "from sklearn.metrics import confusion_matrix\n",
    "from operator import itemgetter\n",
    "from itertools import groupby\n",
    "import numpy as np\n",
    "import pandas as pd"
   ]
  },
  {
   "cell_type": "code",
   "execution_count": 7,
   "metadata": {
    "collapsed": true
   },
   "outputs": [],
   "source": [
    "src = 'data_for_student_case.csv'\n",
    "df = pd.read_csv(src)"
   ]
  },
  {
   "cell_type": "code",
   "execution_count": 9,
   "metadata": {
    "collapsed": false,
    "scrolled": true
   },
   "outputs": [
    {
     "data": {
      "text/html": [
       "<div>\n",
       "<table border=\"1\" class=\"dataframe\">\n",
       "  <thead>\n",
       "    <tr style=\"text-align: right;\">\n",
       "      <th></th>\n",
       "      <th>txid</th>\n",
       "      <th>bookingdate</th>\n",
       "      <th>issuercountrycode</th>\n",
       "      <th>txvariantcode</th>\n",
       "      <th>bin</th>\n",
       "      <th>amount</th>\n",
       "      <th>currencycode</th>\n",
       "      <th>shoppercountrycode</th>\n",
       "      <th>shopperinteraction</th>\n",
       "      <th>simple_journal</th>\n",
       "      <th>cardverificationcodesupplied</th>\n",
       "      <th>cvcresponsecode</th>\n",
       "      <th>creationdate</th>\n",
       "      <th>accountcode</th>\n",
       "      <th>mail_id</th>\n",
       "      <th>ip_id</th>\n",
       "      <th>card_id</th>\n",
       "    </tr>\n",
       "  </thead>\n",
       "  <tbody>\n",
       "    <tr>\n",
       "      <th>0</th>\n",
       "      <td>1</td>\n",
       "      <td>2015-11-09 14:26:51</td>\n",
       "      <td>MX</td>\n",
       "      <td>mccredit</td>\n",
       "      <td>530056.0</td>\n",
       "      <td>64800.0</td>\n",
       "      <td>MXN</td>\n",
       "      <td>MX</td>\n",
       "      <td>Ecommerce</td>\n",
       "      <td>Chargeback</td>\n",
       "      <td>True</td>\n",
       "      <td>0</td>\n",
       "      <td>2015-07-01 23:03:11</td>\n",
       "      <td>MexicoAccount</td>\n",
       "      <td>email68370</td>\n",
       "      <td>ip111778</td>\n",
       "      <td>card184798</td>\n",
       "    </tr>\n",
       "    <tr>\n",
       "      <th>1</th>\n",
       "      <td>2</td>\n",
       "      <td>2015-11-09 14:27:38</td>\n",
       "      <td>MX</td>\n",
       "      <td>mccredit</td>\n",
       "      <td>547046.0</td>\n",
       "      <td>44900.0</td>\n",
       "      <td>MXN</td>\n",
       "      <td>MX</td>\n",
       "      <td>Ecommerce</td>\n",
       "      <td>Chargeback</td>\n",
       "      <td>True</td>\n",
       "      <td>0</td>\n",
       "      <td>2015-07-02 04:50:55</td>\n",
       "      <td>MexicoAccount</td>\n",
       "      <td>email101299</td>\n",
       "      <td>ip78749</td>\n",
       "      <td>card151595</td>\n",
       "    </tr>\n",
       "    <tr>\n",
       "      <th>2</th>\n",
       "      <td>3</td>\n",
       "      <td>2015-11-23 16:34:16</td>\n",
       "      <td>MX</td>\n",
       "      <td>mccredit</td>\n",
       "      <td>528843.0</td>\n",
       "      <td>149900.0</td>\n",
       "      <td>MXN</td>\n",
       "      <td>MX</td>\n",
       "      <td>Ecommerce</td>\n",
       "      <td>Chargeback</td>\n",
       "      <td>True</td>\n",
       "      <td>0</td>\n",
       "      <td>2015-07-02 14:30:28</td>\n",
       "      <td>MexicoAccount</td>\n",
       "      <td>email278604</td>\n",
       "      <td>ip70594</td>\n",
       "      <td>card242142</td>\n",
       "    </tr>\n",
       "    <tr>\n",
       "      <th>3</th>\n",
       "      <td>4</td>\n",
       "      <td>2015-11-23 16:34:51</td>\n",
       "      <td>MX</td>\n",
       "      <td>mccredit</td>\n",
       "      <td>547146.0</td>\n",
       "      <td>109900.0</td>\n",
       "      <td>MXN</td>\n",
       "      <td>MX</td>\n",
       "      <td>Ecommerce</td>\n",
       "      <td>Chargeback</td>\n",
       "      <td>True</td>\n",
       "      <td>0</td>\n",
       "      <td>2015-07-03 07:53:37</td>\n",
       "      <td>MexicoAccount</td>\n",
       "      <td>email47409</td>\n",
       "      <td>ip113648</td>\n",
       "      <td>card181744</td>\n",
       "    </tr>\n",
       "    <tr>\n",
       "      <th>4</th>\n",
       "      <td>5</td>\n",
       "      <td>2015-11-09 14:26:08</td>\n",
       "      <td>MX</td>\n",
       "      <td>visaclassic</td>\n",
       "      <td>477291.0</td>\n",
       "      <td>89900.0</td>\n",
       "      <td>MXN</td>\n",
       "      <td>MX</td>\n",
       "      <td>Ecommerce</td>\n",
       "      <td>Chargeback</td>\n",
       "      <td>True</td>\n",
       "      <td>0</td>\n",
       "      <td>2015-07-08 18:35:35</td>\n",
       "      <td>MexicoAccount</td>\n",
       "      <td>email205501</td>\n",
       "      <td>ip83553</td>\n",
       "      <td>card97271</td>\n",
       "    </tr>\n",
       "  </tbody>\n",
       "</table>\n",
       "</div>"
      ],
      "text/plain": [
       "   txid          bookingdate issuercountrycode txvariantcode       bin  \\\n",
       "0     1  2015-11-09 14:26:51                MX      mccredit  530056.0   \n",
       "1     2  2015-11-09 14:27:38                MX      mccredit  547046.0   \n",
       "2     3  2015-11-23 16:34:16                MX      mccredit  528843.0   \n",
       "3     4  2015-11-23 16:34:51                MX      mccredit  547146.0   \n",
       "4     5  2015-11-09 14:26:08                MX   visaclassic  477291.0   \n",
       "\n",
       "     amount currencycode shoppercountrycode shopperinteraction simple_journal  \\\n",
       "0   64800.0          MXN                 MX          Ecommerce     Chargeback   \n",
       "1   44900.0          MXN                 MX          Ecommerce     Chargeback   \n",
       "2  149900.0          MXN                 MX          Ecommerce     Chargeback   \n",
       "3  109900.0          MXN                 MX          Ecommerce     Chargeback   \n",
       "4   89900.0          MXN                 MX          Ecommerce     Chargeback   \n",
       "\n",
       "  cardverificationcodesupplied  cvcresponsecode         creationdate  \\\n",
       "0                         True                0  2015-07-01 23:03:11   \n",
       "1                         True                0  2015-07-02 04:50:55   \n",
       "2                         True                0  2015-07-02 14:30:28   \n",
       "3                         True                0  2015-07-03 07:53:37   \n",
       "4                         True                0  2015-07-08 18:35:35   \n",
       "\n",
       "     accountcode      mail_id     ip_id     card_id  \n",
       "0  MexicoAccount   email68370  ip111778  card184798  \n",
       "1  MexicoAccount  email101299   ip78749  card151595  \n",
       "2  MexicoAccount  email278604   ip70594  card242142  \n",
       "3  MexicoAccount   email47409  ip113648  card181744  \n",
       "4  MexicoAccount  email205501   ip83553   card97271  "
      ]
     },
     "execution_count": 9,
     "metadata": {},
     "output_type": "execute_result"
    }
   ],
   "source": [
    "df.head()"
   ]
  },
  {
   "cell_type": "markdown",
   "metadata": {},
   "source": [
    "### Data Cleaning\n",
    "* Since \"refused\" transactions are ambiguous, we drop them here.\n",
    "* Transform 'creationdate' to the data strucutre which pandas can read\n",
    "* assign labels\n",
    "* other cleaning"
   ]
  },
  {
   "cell_type": "code",
   "execution_count": 9,
   "metadata": {
    "collapsed": false
   },
   "outputs": [],
   "source": [
    "cleaned_df = df.copy()\n",
    "cleaned_df = cleaned_df[df['simple_journal']!='Refused']"
   ]
  },
  {
   "cell_type": "code",
   "execution_count": 20,
   "metadata": {
    "collapsed": false
   },
   "outputs": [
    {
     "name": "stdout",
     "output_type": "stream",
     "text": [
      "2015\n",
      "7\n"
     ]
    },
    {
     "data": {
      "text/plain": [
       "False"
      ]
     },
     "execution_count": 20,
     "metadata": {},
     "output_type": "execute_result"
    }
   ],
   "source": [
    "cleaned_df['date'] = pd.to_datetime(cleaned_df['creationdate'],format='%Y-%m-%d %H:%M:%S')\n",
    "print cleaned_df.date[0].year\n",
    "print cleaned_df.date[0].month\n",
    "cleaned_df.date[0] > cleaned_df.date[10]"
   ]
  },
  {
   "cell_type": "code",
   "execution_count": 21,
   "metadata": {
    "collapsed": false
   },
   "outputs": [],
   "source": [
    "# assign labels: 1 for fraud, 0 for normal\n",
    "cleaned_df['label'] = cleaned_df['simple_journal'].apply(lambda x: x=='Chargeback')"
   ]
  },
  {
   "cell_type": "code",
   "execution_count": 22,
   "metadata": {
    "collapsed": false
   },
   "outputs": [],
   "source": [
    "# some cleaning for cvc response\n",
    "cleaned_df['cvcresponsecode'] = cleaned_df['cvcresponsecode'].apply(lambda x: (x>2) * 3 + (x<=2)*x) "
   ]
  },
  {
   "cell_type": "markdown",
   "metadata": {},
   "source": [
    "## Visualization "
   ]
  },
  {
   "cell_type": "code",
   "execution_count": 49,
   "metadata": {
    "collapsed": false
   },
   "outputs": [
    {
     "data": {
      "text/plain": [
       "<seaborn.axisgrid.FacetGrid at 0x2d607fd0>"
      ]
     },
     "execution_count": 49,
     "metadata": {},
     "output_type": "execute_result"
    },
    {
     "data": {
      "image/png": "[encoded data removed]",
      "text/plain": [
       "<matplotlib.figure.Figure at 0x2d607a90>"
      ]
     },
     "metadata": {},
     "output_type": "display_data"
    }
   ],
   "source": [
    "import seaborn as sns\n",
    "sns.FacetGrid(cleaned_df, hue=\"label\", size=6) \\\n",
    "   .map(sns.kdeplot, \"amount\") \\\n",
    "   .add_legend()"
   ]
  },
  {
   "cell_type": "code",
   "execution_count": 39,
   "metadata": {
    "collapsed": false,
    "scrolled": true
   },
   "outputs": [],
   "source": [
    "sns.pairplot(cleaned_df, palette=\"husl\",vars=['bin','amount','issuercountrycode'] ,hue=\"label\", size=3)"
   ]
  },
  {
   "cell_type": "code",
   "execution_count": 38,
   "metadata": {
    "collapsed": false
   },
   "outputs": [
    {
     "data": {
      "text/plain": [
       "<seaborn.axisgrid.FacetGrid at 0x2d9bc550>"
      ]
     },
     "execution_count": 38,
     "metadata": {},
     "output_type": "execute_result"
    },
    {
     "data": {
      "image/png": "[encoded data removed]",
      "text/plain": [
       "<matplotlib.figure.Figure at 0x2d9db828>"
      ]
     },
     "metadata": {},
     "output_type": "display_data"
    }
   ],
   "source": [
    "sns.factorplot(data=cleaned_df,x=\"cvcresponsecode\", y=\"amount\", hue=\"label\")"
   ]
  },
  {
   "cell_type": "code",
   "execution_count": 40,
   "metadata": {
    "collapsed": true
   },
   "outputs": [],
   "source": [
    "fraud_df = cleaned_df[cleaned_df['label']==True]\n",
    "safe_df =  cleaned_df[cleaned_df['label']==False]"
   ]
  },
  {
   "cell_type": "markdown",
   "metadata": {},
   "source": [
    "## It's a very imbalenced dataset!!"
   ]
  },
  {
   "cell_type": "code",
   "execution_count": 48,
   "metadata": {
    "collapsed": false
   },
   "outputs": [
    {
     "name": "stdout",
     "output_type": "stream",
     "text": [
      "Number of fraud: 345\n",
      "Number of safe trasactions: 236691\n",
      "Percentage of fraud: 0.14554751177 %\n"
     ]
    }
   ],
   "source": [
    "print 'Number of fraud:',len(fraud_df)\n",
    "print 'Number of safe trasactions:',len(safe_df)\n",
    "print 'Percentage of fraud:',100.0*len(fraud_df)/len(cleaned_df),'%'"
   ]
  },
  {
   "cell_type": "markdown",
   "metadata": {},
   "source": [
    "- issuercountrycode: country where the card was issued\n",
    "- txvariantcode: the card type that was used (subbrand of visa or master card)\n",
    "- bin: card issuer identifier\n",
    "- amount/currencycode: transaction amount in minor units (so 100 EUR = 100 euro cent)\n",
    "- shoppercountrycode: IP address country\n",
    "- shopperinteraction: Ecommerce if it was an online transaction, ContAuth if it was a (monthly) subscription\n",
    "- simple_journal: Payment status. Authorised = “transaction approved and no fraud reported”, Refused = “transaction was declined, can be fraud, but can also be insufficient funds, etc”, Chargeback = “transaction was approved, but turned out to be fraud”\n",
    "- bookingdate: only relevant for Chargebacks. Time stamp when the chargeback was reported. During simulation you may only use this knowledge after this date. So for example if on an email address a transaction ended in a chargeback, you can only block that email address after the booking date of the chargeback.\n",
    "- cardverificationresponsesupplied: did the shopper provide his 3 digit CVC/CVV2 code?\n",
    "- cvcresponsecode: Validation result of the CVC/CVV2 code: 0 = Unknown, 1=Match, 2=No Match, 3-6=Not checked\n",
    "- creationdate: Date of transaction\n",
    "- accountcode: merchant’s webshop\n",
    "- mail_id: Email address\n",
    "- ip_id: Ip address\n",
    "- card_id: Card number"
   ]
  }
 ],
 "metadata": {
  "kernelspec": {
   "display_name": "Python 2",
   "language": "python",
   "name": "python2"
  },
  "language_info": {
   "codemirror_mode": {
    "name": "ipython",
    "version": 2
   },
   "file_extension": ".py",
   "mimetype": "text/x-python",
   "name": "python",
   "nbconvert_exporter": "python",
   "pygments_lexer": "ipython2",
   "version": "2.7.13"
  }
 },
 "nbformat": 4,
 "nbformat_minor": 0
}
